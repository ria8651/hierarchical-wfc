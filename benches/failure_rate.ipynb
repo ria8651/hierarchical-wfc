{
 "cells": [
  {
   "cell_type": "code",
   "execution_count": 28,
   "metadata": {},
   "outputs": [],
   "source": [
    "interior =  (844, 1000)\n",
    "exterior = (973 , 1000)\n",
    "mixed = (83 , 1000)\n",
    "mixed_discard = (1 , 1000)\n",
    "deterministic = (603, 1000)\n",
    "deterministic = (603, 1000)\n",
    "none = (0,1000)"
   ]
  },
  {
   "cell_type": "code",
   "execution_count": 29,
   "metadata": {},
   "outputs": [
    {
     "name": "stdout",
     "output_type": "stream",
     "text": [
      "no chunking: 0.0 pm 0.0\n",
      "interior: 0.844 pm 0.011474493452871897\n",
      "exterior: 0.973 pm 0.005125524363418832\n",
      "mixed: 0.083 pm 0.008724161850859944\n",
      "mixed_discard: 0.001 pm 0.0009994998749374609\n",
      "deterministic: 0.603 pm 0.01547226550961429\n"
     ]
    }
   ],
   "source": [
    "for name, results in zip(\n",
    "   [\"no chunking\",\"interior\", \"exterior\", \"mixed\", \"mixed_discard\", \"deterministic\"],\n",
    "   [none, interior, exterior, mixed, mixed_discard, deterministic]\n",
    "):\n",
    "    p = results[0]/results[1]\n",
    "    q =  1.0-p\n",
    "    n = results[1]\n",
    "    standard_deviation = (p*q/n)**0.5\n",
    "    print(f\"{name}: {p} pm {standard_deviation}\")\n",
    "    # print(f\"\\\\texttt{{{name}}} & {p} & {standard_deviation}\\\\\\\\\")\n"
   ]
  }
 ],
 "metadata": {
  "kernelspec": {
   "display_name": "Python 3",
   "language": "python",
   "name": "python3"
  },
  "language_info": {
   "codemirror_mode": {
    "name": "ipython",
    "version": 3
   },
   "file_extension": ".py",
   "mimetype": "text/x-python",
   "name": "python",
   "nbconvert_exporter": "python",
   "pygments_lexer": "ipython3",
   "version": "3.11.5"
  },
  "orig_nbformat": 4
 },
 "nbformat": 4,
 "nbformat_minor": 2
}
