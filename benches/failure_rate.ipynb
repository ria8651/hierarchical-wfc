{
 "cells": [
  {
   "cell_type": "code",
   "execution_count": 20,
   "metadata": {},
   "outputs": [],
   "source": [
    "interior =  (844, 1000)\n",
    "exterior = (973 , 1000)\n",
    "mixed = (83 , 1000)\n",
    "mixed_discard = (1 , 1000)\n",
    "deterministic = (603, 1000)"
   ]
  },
  {
   "cell_type": "code",
   "execution_count": 21,
   "metadata": {},
   "outputs": [
    {
     "name": "stdout",
     "output_type": "stream",
     "text": [
      "\\texttt{interior} & 0.844 & 0.011474493452871897\\\\\n",
      "\\texttt{exterior} & 0.973 & 0.005125524363418832\\\\\n",
      "\\texttt{mixed} & 0.083 & 0.008724161850859944\\\\\n",
      "\\texttt{mixed_discard} & 0.001 & 0.0009994998749374609\\\\\n",
      "\\texttt{deterministic} & 0.603 & 0.01547226550961429\\\\\n"
     ]
    }
   ],
   "source": [
    "for name, results in zip(\n",
    "   [\"interior\", \"exterior\", \"mixed\", \"mixed_discard\", \"deterministic\"],\n",
    "   [interior, exterior, mixed, mixed_discard, deterministic]\n",
    "):\n",
    "    p = results[0]/results[1]\n",
    "    q =  1.0-p\n",
    "    n = results[1]\n",
    "    standard_deviation = (p*q/n)**0.5\n",
    "    print(f\"{name}: {p} pm {standard_deviation}\")\n",
    "    # print(f\"\\\\texttt{{{name}}} & {p} & {standard_deviation}\\\\\\\\\")\n"
   ]
  }
 ],
 "metadata": {
  "kernelspec": {
   "display_name": "Python 3",
   "language": "python",
   "name": "python3"
  },
  "language_info": {
   "codemirror_mode": {
    "name": "ipython",
    "version": 3
   },
   "file_extension": ".py",
   "mimetype": "text/x-python",
   "name": "python",
   "nbconvert_exporter": "python",
   "pygments_lexer": "ipython3",
   "version": "3.11.5"
  },
  "orig_nbformat": 4
 },
 "nbformat": 4,
 "nbformat_minor": 2
}
